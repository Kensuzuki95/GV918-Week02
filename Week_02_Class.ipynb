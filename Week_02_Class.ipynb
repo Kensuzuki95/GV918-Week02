{
  "nbformat": 4,
  "nbformat_minor": 0,
  "metadata": {
    "colab": {
      "name": "Week 02 Class.ipynb",
      "provenance": [],
      "collapsed_sections": []
    },
    "kernelspec": {
      "name": "python3",
      "display_name": "Python 3"
    }
  },
  "cells": [
    {
      "cell_type": "markdown",
      "metadata": {
        "id": "IVijStwRXqOm"
      },
      "source": [
        "# Week 02 Class: Exercises"
      ]
    },
    {
      "cell_type": "markdown",
      "metadata": {
        "id": "iIXp1gtxEDGP"
      },
      "source": [
        "In this exercise, we will review python basics. "
      ]
    },
    {
      "cell_type": "markdown",
      "metadata": {
        "id": "p7g-vh9GXuHa"
      },
      "source": [
        "## Variables\n"
      ]
    },
    {
      "cell_type": "markdown",
      "metadata": {
        "id": "EtXJ1CbJfDMP"
      },
      "source": [
        "### Create variables"
      ]
    },
    {
      "cell_type": "markdown",
      "metadata": {
        "id": "Il7w4ZyJekgD"
      },
      "source": [
        "Let's start with a very simple exercise of creating new variables\n",
        "\n",
        "\n",
        "\n",
        "1.   Variable called var_a with value of 3\n",
        "2.   Variable called var_b with value of 100\n",
        "3.   String variable str_var_a with value of \"GV918\"\n",
        "4.   String variable str_var_a with value of \"Data for Social Data Science\"\n",
        "\n",
        "\n"
      ]
    },
    {
      "cell_type": "code",
      "metadata": {
        "id": "I-Uhpjn4fmlq"
      },
      "source": [
        "var_a = 3\n",
        "var_b = 100\n",
        "str_var_a = 'GV918'\n",
        "str_var_a = 'Data for Social Data Science'"
      ],
      "execution_count": 20,
      "outputs": []
    },
    {
      "cell_type": "markdown",
      "metadata": {
        "id": "n4edwXaTfX5C"
      },
      "source": [
        "### Variable operations"
      ]
    },
    {
      "cell_type": "markdown",
      "metadata": {
        "id": "Jx-VgZXhft4_"
      },
      "source": [
        "\n",
        "\n",
        "*   Add var_a and var_b\n",
        "*   Subtract var_a from var_b\n",
        "*   Multiply var_a and var_b\n",
        "*   Divide var_b by var_a\n",
        "\n"
      ]
    },
    {
      "cell_type": "code",
      "metadata": {
        "id": "F38MqMvggGHY",
        "outputId": "89bd58fe-344d-4979-80c4-4f1dfc6c23c8",
        "colab": {
          "base_uri": "https://localhost:8080/",
          "height": 34
        }
      },
      "source": [
        "var_a + var_b"
      ],
      "execution_count": 21,
      "outputs": [
        {
          "output_type": "execute_result",
          "data": {
            "text/plain": [
              "103"
            ]
          },
          "metadata": {
            "tags": []
          },
          "execution_count": 21
        }
      ]
    },
    {
      "cell_type": "code",
      "metadata": {
        "id": "rNTAxSkpDq5H",
        "outputId": "3fd044dc-a2f6-446b-eaee-52a5d68855f9",
        "colab": {
          "base_uri": "https://localhost:8080/",
          "height": 34
        }
      },
      "source": [
        "var_b - var_a"
      ],
      "execution_count": 22,
      "outputs": [
        {
          "output_type": "execute_result",
          "data": {
            "text/plain": [
              "97"
            ]
          },
          "metadata": {
            "tags": []
          },
          "execution_count": 22
        }
      ]
    },
    {
      "cell_type": "code",
      "metadata": {
        "id": "vrYXdKLhDvyf",
        "outputId": "aa9e649b-b6bb-40e2-82e6-722b98e86e90",
        "colab": {
          "base_uri": "https://localhost:8080/",
          "height": 34
        }
      },
      "source": [
        "var_a * var_b"
      ],
      "execution_count": 23,
      "outputs": [
        {
          "output_type": "execute_result",
          "data": {
            "text/plain": [
              "300"
            ]
          },
          "metadata": {
            "tags": []
          },
          "execution_count": 23
        }
      ]
    },
    {
      "cell_type": "code",
      "metadata": {
        "id": "65f9imhPD4l5",
        "outputId": "2d152a9e-c769-4e31-a109-5da78e2d6cb2",
        "colab": {
          "base_uri": "https://localhost:8080/",
          "height": 34
        }
      },
      "source": [
        "var_b / var_a"
      ],
      "execution_count": 24,
      "outputs": [
        {
          "output_type": "execute_result",
          "data": {
            "text/plain": [
              "33.333333333333336"
            ]
          },
          "metadata": {
            "tags": []
          },
          "execution_count": 24
        }
      ]
    },
    {
      "cell_type": "markdown",
      "metadata": {
        "id": "daqr2BXlRO_u"
      },
      "source": [
        "# Saving on Github\n",
        "\n",
        "- Before going to the next section, let's save the work on github."
      ]
    },
    {
      "cell_type": "markdown",
      "metadata": {
        "id": "u0HUK1lQbEb4"
      },
      "source": [
        "## Lists"
      ]
    },
    {
      "cell_type": "markdown",
      "metadata": {
        "id": "WW78ZY6yjbT6"
      },
      "source": [
        "### Create lists"
      ]
    },
    {
      "cell_type": "markdown",
      "metadata": {
        "id": "Mdq_SIg9gOMg"
      },
      "source": [
        "1. Create a list, list_a, with values of 1, 3, 4, 5, 9, 2, 4.5\n",
        "2. Create a list, list_b, with words from \"this is a simple string list\" \n",
        "  - You can type all or use `*.split` method"
      ]
    },
    {
      "cell_type": "code",
      "metadata": {
        "id": "QllZLPMabmsD"
      },
      "source": [
        "list_a = [1, 3, 4, 5, 9, 2, 4.5]\n",
        "list_b = ['this', 'is','a','simple','string','list']"
      ],
      "execution_count": 25,
      "outputs": []
    },
    {
      "cell_type": "markdown",
      "metadata": {
        "id": "CPo-xxVmjfUL"
      },
      "source": [
        "### Slicing lists"
      ]
    },
    {
      "cell_type": "markdown",
      "metadata": {
        "id": "XZyEmoCpjjdU"
      },
      "source": [
        "- From the first list, extract a sublist with elements of:\n",
        "    -   1, 3, 4\n",
        "    -   9, 2, 4.5\n",
        "    -   4, 5, 9\n"
      ]
    },
    {
      "cell_type": "code",
      "metadata": {
        "id": "5JTxUTdnjep3",
        "outputId": "526812b2-0e42-44a5-ce36-5afaabbe605e",
        "colab": {
          "base_uri": "https://localhost:8080/",
          "height": 34
        }
      },
      "source": [
        "list_a[0:3]"
      ],
      "execution_count": 26,
      "outputs": [
        {
          "output_type": "execute_result",
          "data": {
            "text/plain": [
              "[1, 3, 4]"
            ]
          },
          "metadata": {
            "tags": []
          },
          "execution_count": 26
        }
      ]
    },
    {
      "cell_type": "code",
      "metadata": {
        "id": "1aA_PDHfv0JE",
        "outputId": "1faba319-89a5-4b9d-e81b-e872d9361688",
        "colab": {
          "base_uri": "https://localhost:8080/",
          "height": 34
        }
      },
      "source": [
        "list_a[4:7]"
      ],
      "execution_count": 27,
      "outputs": [
        {
          "output_type": "execute_result",
          "data": {
            "text/plain": [
              "[9, 2, 4.5]"
            ]
          },
          "metadata": {
            "tags": []
          },
          "execution_count": 27
        }
      ]
    },
    {
      "cell_type": "code",
      "metadata": {
        "id": "31Jd14hpwIXL",
        "outputId": "67e3717a-2b57-48c5-d42f-d0c4d1a99264",
        "colab": {
          "base_uri": "https://localhost:8080/",
          "height": 34
        }
      },
      "source": [
        "list_a[2:5]"
      ],
      "execution_count": 28,
      "outputs": [
        {
          "output_type": "execute_result",
          "data": {
            "text/plain": [
              "[4, 5, 9]"
            ]
          },
          "metadata": {
            "tags": []
          },
          "execution_count": 28
        }
      ]
    },
    {
      "cell_type": "markdown",
      "metadata": {
        "id": "egyAtr0slWVG"
      },
      "source": [
        "## Manipulating lists"
      ]
    },
    {
      "cell_type": "markdown",
      "metadata": {
        "id": "vZQJxYrbldyl"
      },
      "source": [
        "- Append an element (e.g. 100) to list_a\n",
        "- Replace the second element of list_a to 12"
      ]
    },
    {
      "cell_type": "code",
      "metadata": {
        "id": "rJ9u0rbXEyzA"
      },
      "source": [
        "list_a.append(100)"
      ],
      "execution_count": 29,
      "outputs": []
    },
    {
      "cell_type": "code",
      "metadata": {
        "id": "uTObMb4-wsgZ",
        "outputId": "96759edb-990a-4bf6-8671-311ce451f24a",
        "colab": {
          "base_uri": "https://localhost:8080/",
          "height": 34
        }
      },
      "source": [
        "list_a"
      ],
      "execution_count": 30,
      "outputs": [
        {
          "output_type": "execute_result",
          "data": {
            "text/plain": [
              "[1, 3, 4, 5, 9, 2, 4.5, 100]"
            ]
          },
          "metadata": {
            "tags": []
          },
          "execution_count": 30
        }
      ]
    },
    {
      "cell_type": "code",
      "metadata": {
        "id": "V7-Xom-Dw4wK"
      },
      "source": [
        ""
      ],
      "execution_count": null,
      "outputs": []
    },
    {
      "cell_type": "markdown",
      "metadata": {
        "id": "Zf1GnnLE5ECS"
      },
      "source": [
        "### Concatenate lists"
      ]
    },
    {
      "cell_type": "markdown",
      "metadata": {
        "id": "jAgDA5GL5HuC"
      },
      "source": [
        "- Concatenate list_a and list_b\n",
        "- Use `+`"
      ]
    },
    {
      "cell_type": "code",
      "metadata": {
        "id": "MFA23E1H5HO2"
      },
      "source": [
        ""
      ],
      "execution_count": 30,
      "outputs": []
    },
    {
      "cell_type": "markdown",
      "metadata": {
        "id": "Y_Ovr2NB7R_V"
      },
      "source": [
        "### Copying lists"
      ]
    },
    {
      "cell_type": "markdown",
      "metadata": {
        "id": "mYaM6Za77cq1"
      },
      "source": [
        "Do the following operations\n",
        "- Assign `lsit_a` to `list_a2`\n",
        "- Change the value of `list_a2[0]` to 7\n",
        "- Check the value of `list_a` and `list_a2`\n",
        "\n",
        "What do you find? "
      ]
    },
    {
      "cell_type": "code",
      "metadata": {
        "id": "0l6ZdhMiE1NK"
      },
      "source": [
        ""
      ],
      "execution_count": 30,
      "outputs": []
    },
    {
      "cell_type": "markdown",
      "metadata": {
        "id": "kF_f4TLg-RAT"
      },
      "source": [
        "## Dictionary"
      ]
    },
    {
      "cell_type": "markdown",
      "metadata": {
        "id": "LBbTHliu-U2A"
      },
      "source": [
        "- create a dictionary with the follwoing key-value pairs\n",
        "    *   a: 10\n",
        "    *   b: 20\n",
        "    *   c: 70n\n",
        "- add some new key and value\n",
        "\n"
      ]
    },
    {
      "cell_type": "code",
      "metadata": {
        "id": "myq61b4x-i2c"
      },
      "source": [
        ""
      ],
      "execution_count": 30,
      "outputs": []
    },
    {
      "cell_type": "markdown",
      "metadata": {
        "id": "69H-MRgibxQe"
      },
      "source": [
        "## (Optional) String operation"
      ]
    },
    {
      "cell_type": "markdown",
      "metadata": {
        "id": "xciWhwD-hmd7"
      },
      "source": [
        "### Concatenation"
      ]
    },
    {
      "cell_type": "markdown",
      "metadata": {
        "id": "CyHZ3qdchNTf"
      },
      "source": [
        "Let's do some string operation"
      ]
    },
    {
      "cell_type": "code",
      "metadata": {
        "id": "SuTa8GiWbyy7"
      },
      "source": [
        "str_1 = \"Hello\"\n",
        "str_2 = \"world\"\n",
        "str_3 = \"!\""
      ],
      "execution_count": 31,
      "outputs": []
    },
    {
      "cell_type": "markdown",
      "metadata": {
        "id": "EUySRJKhhZen"
      },
      "source": [
        "How to concateneate them to craete \"Hello world?\"\n",
        "[https://www.w3schools.com/python/python_strings.asp](https://www.w3schools.com/python/python_strings.asp)"
      ]
    },
    {
      "cell_type": "code",
      "metadata": {
        "id": "u1Xs5Xbnhiiw"
      },
      "source": [
        ""
      ],
      "execution_count": 31,
      "outputs": []
    },
    {
      "cell_type": "markdown",
      "metadata": {
        "id": "AaOIR7PlhqaF"
      },
      "source": [
        "### Formatting\n",
        "\n",
        "Read the section of **String Format** and try to generate \"Today is 13-10-2020\""
      ]
    },
    {
      "cell_type": "code",
      "metadata": {
        "id": "XMN4BABMiHdc"
      },
      "source": [
        "year = 2020\n",
        "month = 10\n",
        "date = 13\n",
        "fill_str = \"Today is ...\" ## this part has to be changed"
      ],
      "execution_count": 32,
      "outputs": []
    },
    {
      "cell_type": "code",
      "metadata": {
        "id": "YdNV9FiRuLgJ"
      },
      "source": [
        ""
      ],
      "execution_count": 32,
      "outputs": []
    },
    {
      "cell_type": "code",
      "metadata": {
        "id": "n9KJpNsruXaq",
        "outputId": "61e4dfd1-66ba-4c76-c445-eed6ee734353",
        "colab": {
          "base_uri": "https://localhost:8080/",
          "height": 34
        }
      },
      "source": [
        "from google.colab import drive\n",
        "drive.mount('/content/drive')"
      ],
      "execution_count": 33,
      "outputs": [
        {
          "output_type": "stream",
          "text": [
            "Drive already mounted at /content/drive; to attempt to forcibly remount, call drive.mount(\"/content/drive\", force_remount=True).\n"
          ],
          "name": "stdout"
        }
      ]
    }
  ]
}